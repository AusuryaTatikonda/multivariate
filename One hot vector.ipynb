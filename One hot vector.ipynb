{
  "nbformat": 4,
  "nbformat_minor": 0,
  "metadata": {
    "colab": {
      "provenance": [],
      "include_colab_link": true
    },
    "kernelspec": {
      "name": "python3",
      "display_name": "Python 3"
    },
    "language_info": {
      "name": "python"
    }
  },
  "cells": [
    {
      "cell_type": "markdown",
      "metadata": {
        "id": "view-in-github",
        "colab_type": "text"
      },
      "source": [
        "<a href=\"https://colab.research.google.com/github/AusuryaTatikonda/multivariate/blob/main/One%20hot%20vector.ipynb\" target=\"_parent\"><img src=\"https://colab.research.google.com/assets/colab-badge.svg\" alt=\"Open In Colab\"/></a>"
      ]
    },
    {
      "cell_type": "code",
      "execution_count": 1,
      "metadata": {
        "id": "dR24JtvSqROG"
      },
      "outputs": [],
      "source": [
        "import numpy as np\n",
        "samples = {'Jupiter has 79 known moons .', 'Neptune has 14 confirmed moons !'} # Sample set for our example\n",
        "token_index = {}\n",
        "counter = 0"
      ]
    },
    {
      "cell_type": "code",
      "source": [
        "\n",
        "for sample in samples:\n",
        "  for considered_word in sample.split():\n",
        "    if considered_word not in token_index:\n",
        "\n",
        "\n",
        "      token_index.update({considered_word : counter + 1})\n",
        "\n",
        "\n",
        "      counter = counter + 1\n",
        "\n",
        "print(token_index)"
      ],
      "metadata": {
        "colab": {
          "base_uri": "https://localhost:8080/"
        },
        "id": "XQMqzWv-qekZ",
        "outputId": "94ba1b93-42e7-4a92-9b65-8fc0dccbf70a"
      },
      "execution_count": 2,
      "outputs": [
        {
          "output_type": "stream",
          "name": "stdout",
          "text": [
            "{'Jupiter': 1, 'has': 2, '79': 3, 'known': 4, 'moons': 5, '.': 6, 'Neptune': 7, '14': 8, 'confirmed': 9, '!': 10}\n"
          ]
        }
      ]
    },
    {
      "cell_type": "code",
      "source": [
        "max_length = 6\n",
        "results  = np.zeros(shape = (len(samples),\n",
        "                            max_length,\n",
        "                            max(token_index.values()) + 1))"
      ],
      "metadata": {
        "id": "2vB-spTRqhOi"
      },
      "execution_count": 3,
      "outputs": []
    },
    {
      "cell_type": "code",
      "source": [
        "\n",
        "for i, sample in enumerate(samples):\n",
        "\n",
        "  for j, considered_word in list(enumerate(sample.split())):\n",
        "    index = token_index.get(considered_word)\n",
        "    results[i, j, index] = 1.\n",
        "\n",
        "print(results)"
      ],
      "metadata": {
        "colab": {
          "base_uri": "https://localhost:8080/"
        },
        "id": "A1__0TUuqnMU",
        "outputId": "8d9fc53d-f692-477c-a2ab-5bb7ba63e5ab"
      },
      "execution_count": 4,
      "outputs": [
        {
          "output_type": "stream",
          "name": "stdout",
          "text": [
            "[[[0. 1. 0. 0. 0. 0. 0. 0. 0. 0. 0.]\n",
            "  [0. 0. 1. 0. 0. 0. 0. 0. 0. 0. 0.]\n",
            "  [0. 0. 0. 1. 0. 0. 0. 0. 0. 0. 0.]\n",
            "  [0. 0. 0. 0. 1. 0. 0. 0. 0. 0. 0.]\n",
            "  [0. 0. 0. 0. 0. 1. 0. 0. 0. 0. 0.]\n",
            "  [0. 0. 0. 0. 0. 0. 1. 0. 0. 0. 0.]]\n",
            "\n",
            " [[0. 0. 0. 0. 0. 0. 0. 1. 0. 0. 0.]\n",
            "  [0. 0. 1. 0. 0. 0. 0. 0. 0. 0. 0.]\n",
            "  [0. 0. 0. 0. 0. 0. 0. 0. 1. 0. 0.]\n",
            "  [0. 0. 0. 0. 0. 0. 0. 0. 0. 1. 0.]\n",
            "  [0. 0. 0. 0. 0. 1. 0. 0. 0. 0. 0.]\n",
            "  [0. 0. 0. 0. 0. 0. 0. 0. 0. 0. 1.]]]\n"
          ]
        }
      ]
    },
    {
      "cell_type": "code",
      "source": [],
      "metadata": {
        "id": "dP_qOdL5qn2m"
      },
      "execution_count": null,
      "outputs": []
    }
  ]
}